{
 "cells": [
  {
   "cell_type": "code",
   "execution_count": 1,
   "id": "475ebb32",
   "metadata": {},
   "outputs": [],
   "source": [
    "import matplotlib.pyplot as plt\n",
    "import matplotlib.image as mpimg"
   ]
  },
  {
   "cell_type": "markdown",
   "id": "ca05d11e",
   "metadata": {},
   "source": [
    "Del 1 – Teoretiska frågor och Python-övningar "
   ]
  },
  {
   "cell_type": "markdown",
   "id": "5ab1d98f",
   "metadata": {},
   "source": [
    "1. Vad är skillnaden på en tuple och list i Python? Är den ena datatypen bättre än den \n",
    "andra?  "
   ]
  },
  {
   "cell_type": "markdown",
   "id": "234bd08f",
   "metadata": {},
   "source": [
    "<span style=\"color:lightgreen\">Svar: En tuple är immutable, det innebär att datan inte kan ändras<br> efter att den har skapats.<br>\n",
    "<br>\n",
    "En list är mutable, man kan lägga till ändra eller ta bort element,<br> efter att listan har skapats.<br>\n",
    "<br>\n",
    "Om den ena är bättre än den andra är fel ordval, eftersom det beror på<bre> vad man ska ha den till.<br>\n",
    "<br>\n",
    "Med fasta värden är det bättre med en tuple och vill du kunna ändra på<br> dina värde, så använd en list.</span>"
   ]
  },
  {
   "cell_type": "markdown",
   "id": "0cb332d5",
   "metadata": {},
   "source": [
    "2. Vad är en funktion för något? Varför kan funktioner vara användbara?  "
   ]
  },
  {
   "cell_type": "markdown",
   "id": "ddcf8c25",
   "metadata": {},
   "source": [
    "<span style=\"color:lightgreen\">Svar: Istället för att upprepa kod som vi ofta skriver, så kan vi spara<br> det i en funktion\n",
    "och kalla på den. Alltså ett kodblock som kan anropas<br> flera gånger (utan att repetera kod).</span>"
   ]
  },
  {
   "cell_type": "markdown",
   "id": "609f80dd",
   "metadata": {},
   "source": [
    "3. Förklara vad nedanstående begrepp, kopplat till klasser, betyder:  \n",
    "a) Instans \n",
    "b) Attribut \n",
    "c) Metod "
   ]
  },
  {
   "cell_type": "markdown",
   "id": "5b991ae7",
   "metadata": {},
   "source": [
    "<span style=\"color:lightgreen\">Svar: Klassen är själva ritningen av objektet. <br>\n",
    "a. Instansen är objektet skapat från klassen <br>\n",
    "b. Attribut är värden/data som är kopplat till en<br> instans.<br>\n",
    "c. En metod är en funktion i en klass, som kan<br> användas av en instans. </span>"
   ]
  },
  {
   "cell_type": "markdown",
   "id": "44b82a3b",
   "metadata": {},
   "source": [
    "4. Vad är Streamlit för något?  "
   ]
  },
  {
   "cell_type": "markdown",
   "id": "0983694c",
   "metadata": {},
   "source": [
    "<span style=\"color:lightgreen\">Svar: Ett bibliotek, verktyg i Python, som används för att \n",
    "visualisera data och skapa enkla webbappar utan att\n",
    "behöva kunna React, HTML, CSS eller JavaScript.</span>"
   ]
  },
  {
   "cell_type": "markdown",
   "id": "05025346",
   "metadata": {},
   "source": [
    "5. I Python ska du nu:  \n",
    "    a) Skapa en klass som heter BankAccount. Klassen skall ha attributet \"account_holder\" \n",
    "    som visar kontoinnehavarens namn samt attributet \"balance\" som visar \n",
    "    kontoinnehavarens balans. Klassen skall ha metoden \"deposit()\" för att kunna sätta in \n",
    "    pengar på kontot samt metoden \"withdraw()\" för att kunna ta ut pengar från kontot. Om \n",
    "    bankinnehavaren försöker ta ut mer pengar än vad som finns på kontot skall \n",
    "    meddelandet \"Too low balance\" printas ut.\n",
    " \n",
    "    b) Skapa en instans av klassen och testa så klassen funkar så som du förväntar dig. Du \n",
    "    kan till exempel prova printa ut attributen, sätta in pengar och ta ut pengar. "
   ]
  },
  {
   "cell_type": "code",
   "execution_count": null,
   "id": "34332a4b",
   "metadata": {},
   "outputs": [
    {
     "name": "stdout",
     "output_type": "stream",
     "text": [
      "Amount added to your account: 1000kr\n",
      "Your balance is: 1000kr\n",
      "You attempted to withdraw 1100kr\n",
      "Too low balance\n",
      "Your balance is: 1000kr\n",
      "Withdraw from your account 900kr\n",
      "Your balance is: 100kr\n",
      "Amount added to your account: 2000kr\n",
      "Your balance is: 2100kr\n"
     ]
    },
    {
     "data": {
      "text/plain": [
       "'Martin'"
      ]
     },
     "execution_count": 41,
     "metadata": {},
     "output_type": "execute_result"
    }
   ],
   "source": [
    "class BankAccount:\n",
    "    \"\"\"This class lets the account holder\n",
    "    deposit or withdraw an amount from\n",
    "    the account\"\"\"\n",
    "\n",
    "    def __init__(self, account_holder, balance=0): \n",
    "        self.account_holder = account_holder\n",
    "        self.balance = balance\n",
    "\n",
    "    def deposit(self, amount):\n",
    "        \"\"\"You can always add an amount to the account\"\"\"\n",
    "\n",
    "        self.balance += amount\n",
    "        print(f\"Amount added to your account: {amount}kr\")\n",
    "        print(f\"Your balance is: {self.balance}kr\")\n",
    "\n",
    "    def withdraw(self, amount):\n",
    "        \"\"\"If you try to withdraw more then your balance\n",
    "        it wont allow you\"\"\"\n",
    "\n",
    "        if amount < self.balance:\n",
    "            self.balance -= amount\n",
    "            print(f\"Withdraw from your account {amount}kr\")\n",
    "            print(f\"Your balance is: {self.balance}kr\")\n",
    "        elif amount > self.balance:\n",
    "            print(f\"You attempted to withdraw {amount}kr\")\n",
    "            print(\"Too low balance\")\n",
    "            print(f\"Your balance is: {self.balance}kr\")\n",
    "\n",
    "\n",
    "my_bank_account = BankAccount(\"Martin\", 0)\n",
    "my_bank_account.deposit(1000)\n",
    "my_bank_account.withdraw(1100)\n",
    "my_bank_account.withdraw(900)\n",
    "my_bank_account.deposit(2000)\n",
    "\n",
    "my_bank_account.account_holder"
   ]
  },
  {
   "cell_type": "markdown",
   "id": "7a3e626c",
   "metadata": {},
   "source": [
    "6. På intervjuer brukar ibland kodtest genomföras. Här är ett exempel på en fråga som hade \n",
    "kunnat dyka upp på ett kodtest.  \n",
    "Skapa en Python funktion som beräknar antalet vokaler i en sträng. Vokalerna är: \n",
    "A, E, I, O, U, Y, Å, Ä och Ö.\n",
    "Exempelvis: vowel_checker(’hjärna’) ska returnera ”2” eftersom ordet ”hjärna” har de två \n",
    "vokalerna ”ä” och ”a”.   "
   ]
  },
  {
   "cell_type": "code",
   "execution_count": 42,
   "id": "03a3354f",
   "metadata": {},
   "outputs": [
    {
     "name": "stdout",
     "output_type": "stream",
     "text": [
      "(2, ['Ä', 'A'], 'hjärna')\n",
      "(4, ['Å', 'A', 'U', 'E'], 'ålaHUE')\n"
     ]
    },
    {
     "ename": "ValueError",
     "evalue": "Please enter a word",
     "output_type": "error",
     "traceback": [
      "\u001b[31m---------------------------------------------------------------------------\u001b[39m",
      "\u001b[31mValueError\u001b[39m                                Traceback (most recent call last)",
      "\u001b[36mCell\u001b[39m\u001b[36m \u001b[39m\u001b[32mIn[42]\u001b[39m\u001b[32m, line 18\u001b[39m\n\u001b[32m     16\u001b[39m \u001b[38;5;28mprint\u001b[39m(vowel_checker(\u001b[33m'\u001b[39m\u001b[33mhjärna\u001b[39m\u001b[33m'\u001b[39m))\n\u001b[32m     17\u001b[39m \u001b[38;5;28mprint\u001b[39m(vowel_checker(\u001b[33m'\u001b[39m\u001b[33målaHUE\u001b[39m\u001b[33m'\u001b[39m))\n\u001b[32m---> \u001b[39m\u001b[32m18\u001b[39m \u001b[38;5;28mprint\u001b[39m(\u001b[43mvowel_checker\u001b[49m\u001b[43m(\u001b[49m\u001b[32;43m4\u001b[39;49m\u001b[43m)\u001b[49m) \u001b[38;5;66;03m#int\u001b[39;00m\n",
      "\u001b[36mCell\u001b[39m\u001b[36m \u001b[39m\u001b[32mIn[42]\u001b[39m\u001b[32m, line 3\u001b[39m, in \u001b[36mvowel_checker\u001b[39m\u001b[34m(string)\u001b[39m\n\u001b[32m      1\u001b[39m \u001b[38;5;28;01mdef\u001b[39;00m\u001b[38;5;250m \u001b[39m\u001b[34mvowel_checker\u001b[39m(string):\n\u001b[32m      2\u001b[39m     \u001b[38;5;28;01mif\u001b[39;00m \u001b[38;5;129;01mnot\u001b[39;00m \u001b[38;5;28misinstance\u001b[39m(string, \u001b[38;5;28mstr\u001b[39m):\n\u001b[32m----> \u001b[39m\u001b[32m3\u001b[39m             \u001b[38;5;28;01mraise\u001b[39;00m \u001b[38;5;167;01mValueError\u001b[39;00m(\u001b[33m\"\u001b[39m\u001b[33mPlease enter a word\u001b[39m\u001b[33m\"\u001b[39m)\n\u001b[32m      5\u001b[39m     vowels = [\u001b[33m\"\u001b[39m\u001b[33mA\u001b[39m\u001b[33m\"\u001b[39m, \u001b[33m\"\u001b[39m\u001b[33mE\u001b[39m\u001b[33m\"\u001b[39m, \u001b[33m\"\u001b[39m\u001b[33mI\u001b[39m\u001b[33m\"\u001b[39m, \u001b[33m\"\u001b[39m\u001b[33mO\u001b[39m\u001b[33m\"\u001b[39m, \u001b[33m\"\u001b[39m\u001b[33mU\u001b[39m\u001b[33m\"\u001b[39m, \u001b[33m\"\u001b[39m\u001b[33mY\u001b[39m\u001b[33m\"\u001b[39m, \u001b[33m\"\u001b[39m\u001b[33mÅ\u001b[39m\u001b[33m\"\u001b[39m, \u001b[33m\"\u001b[39m\u001b[33mÄ\u001b[39m\u001b[33m\"\u001b[39m, \u001b[33m\"\u001b[39m\u001b[33mÖ\u001b[39m\u001b[33m\"\u001b[39m]\n\u001b[32m      6\u001b[39m     vowels_list = []\n",
      "\u001b[31mValueError\u001b[39m: Please enter a word"
     ]
    }
   ],
   "source": [
    "def vowel_checker(string):\n",
    "    if not isinstance(string, str):\n",
    "            raise ValueError(\"Please enter a word\")\n",
    "    \n",
    "    vowels = [\"A\", \"E\", \"I\", \"O\", \"U\", \"Y\", \"Å\", \"Ä\", \"Ö\"]\n",
    "    vowels_list = []\n",
    "    vowel_count = 0\n",
    "\n",
    "    for char in string.upper():\n",
    "          if char in vowels:\n",
    "                vowels_list.append(char)\n",
    "                vowel_count += 1\n",
    "                \n",
    "    return vowel_count, vowels_list, string\n",
    "\n",
    "print(vowel_checker('hjärna'))\n",
    "print(vowel_checker('ålaHUE'))\n",
    "print(vowel_checker(4)) #int"
   ]
  },
  {
   "cell_type": "code",
   "execution_count": 27,
   "id": "96ee8ffb",
   "metadata": {},
   "outputs": [
    {
     "name": "stdout",
     "output_type": "stream",
     "text": [
      "(2, ['Ä', 'A'], 'hjärna')\n",
      "(4, ['Å', 'A', 'U', 'E'], 'ålaHUE')\n"
     ]
    },
    {
     "ename": "ValueError",
     "evalue": "Please enter a word",
     "output_type": "error",
     "traceback": [
      "\u001b[31m---------------------------------------------------------------------------\u001b[39m",
      "\u001b[31mValueError\u001b[39m                                Traceback (most recent call last)",
      "\u001b[36mCell\u001b[39m\u001b[36m \u001b[39m\u001b[32mIn[27]\u001b[39m\u001b[32m, line 14\u001b[39m\n\u001b[32m     12\u001b[39m \u001b[38;5;28mprint\u001b[39m(vowel_checker(\u001b[33m'\u001b[39m\u001b[33mhjärna\u001b[39m\u001b[33m'\u001b[39m))\n\u001b[32m     13\u001b[39m \u001b[38;5;28mprint\u001b[39m(vowel_checker(\u001b[33m'\u001b[39m\u001b[33målaHUE\u001b[39m\u001b[33m'\u001b[39m))\n\u001b[32m---> \u001b[39m\u001b[32m14\u001b[39m \u001b[38;5;28mprint\u001b[39m(\u001b[43mvowel_checker\u001b[49m\u001b[43m(\u001b[49m\u001b[32;43m4\u001b[39;49m\u001b[43m)\u001b[49m) \u001b[38;5;66;03m#int\u001b[39;00m\n",
      "\u001b[36mCell\u001b[39m\u001b[36m \u001b[39m\u001b[32mIn[27]\u001b[39m\u001b[32m, line 3\u001b[39m, in \u001b[36mvowel_checker\u001b[39m\u001b[34m(string)\u001b[39m\n\u001b[32m      1\u001b[39m \u001b[38;5;28;01mdef\u001b[39;00m\u001b[38;5;250m \u001b[39m\u001b[34mvowel_checker\u001b[39m(string):\n\u001b[32m      2\u001b[39m     \u001b[38;5;28;01mif\u001b[39;00m \u001b[38;5;129;01mnot\u001b[39;00m \u001b[38;5;28misinstance\u001b[39m(string, \u001b[38;5;28mstr\u001b[39m):\n\u001b[32m----> \u001b[39m\u001b[32m3\u001b[39m         \u001b[38;5;28;01mraise\u001b[39;00m \u001b[38;5;167;01mValueError\u001b[39;00m(\u001b[33m\"\u001b[39m\u001b[33mPlease enter a word\u001b[39m\u001b[33m\"\u001b[39m)\n\u001b[32m      5\u001b[39m     vowels = {\u001b[33m\"\u001b[39m\u001b[33mA\u001b[39m\u001b[33m\"\u001b[39m, \u001b[33m\"\u001b[39m\u001b[33mE\u001b[39m\u001b[33m\"\u001b[39m, \u001b[33m\"\u001b[39m\u001b[33mI\u001b[39m\u001b[33m\"\u001b[39m, \u001b[33m\"\u001b[39m\u001b[33mO\u001b[39m\u001b[33m\"\u001b[39m, \u001b[33m\"\u001b[39m\u001b[33mU\u001b[39m\u001b[33m\"\u001b[39m, \u001b[33m\"\u001b[39m\u001b[33mY\u001b[39m\u001b[33m\"\u001b[39m, \u001b[33m\"\u001b[39m\u001b[33mÅ\u001b[39m\u001b[33m\"\u001b[39m, \u001b[33m\"\u001b[39m\u001b[33mÄ\u001b[39m\u001b[33m\"\u001b[39m, \u001b[33m\"\u001b[39m\u001b[33mÖ\u001b[39m\u001b[33m\"\u001b[39m}\n\u001b[32m      7\u001b[39m     \u001b[38;5;66;03m# List comprehension för att hämta vokaler\u001b[39;00m\n",
      "\u001b[31mValueError\u001b[39m: Please enter a word"
     ]
    }
   ],
   "source": [
    "def vowel_checker(string):\n",
    "    if not isinstance(string, str):\n",
    "        raise ValueError(\"Please enter a word\")\n",
    "\n",
    "    vowels = {\"A\", \"E\", \"I\", \"O\", \"U\", \"Y\", \"Å\", \"Ä\", \"Ö\"}\n",
    "\n",
    "    # List comprehension för att hämta vokaler\n",
    "    vowels_list = [char for char in string.upper() if char in vowels]\n",
    "\n",
    "    return len(vowels_list), vowels_list, string\n",
    "\n",
    "print(vowel_checker('hjärna'))\n",
    "print(vowel_checker('ålaHUE'))\n",
    "print(vowel_checker(4)) #int"
   ]
  },
  {
   "cell_type": "markdown",
   "id": "58a01d42",
   "metadata": {},
   "source": [
    "7. På intervjuer brukar ibland kodtest genomföras. Här är ett exempel på en fråga som hade \n",
    "kunnat dyka upp på ett kodtest. \n",
    "Skapa en funktion som tar två listor som argument och returnerar de gemensamma \n",
    "elementen i listorna i en ny lista.  \n",
    "Exempelvis:  \n",
    "common_elements([4, ’apple’, 10, ’hi’, 3], ([23 ’apple’, 5, 9, 3]) ska returnera svaret \n",
    "[’apple’, 3].  "
   ]
  },
  {
   "cell_type": "code",
   "execution_count": 28,
   "id": "49b6cb1a",
   "metadata": {},
   "outputs": [
    {
     "data": {
      "text/plain": [
       "['apple', 3]"
      ]
     },
     "execution_count": 28,
     "metadata": {},
     "output_type": "execute_result"
    }
   ],
   "source": [
    "def common_elements(arg1, arg2):\n",
    "    \"\"\"Den här funktionen tar emot två listor\n",
    "       och returnerar de gemensamma elementen\n",
    "       i en ny lista\"\"\"\n",
    "    if not isinstance(arg1, list) or not isinstance(arg2, list):\n",
    "        raise ValueError(\"Function only accepts lists\")\n",
    "    \n",
    "    # list comprehension\n",
    "    combined_list = [element for element in arg1 if element in arg2]\n",
    "    return combined_list\n",
    "\n",
    "common_elements([4, 'apple', 10, 'hi', 3], [23, 'apple', 5, 9, 3])"
   ]
  },
  {
   "cell_type": "code",
   "execution_count": 26,
   "id": "8e78789f",
   "metadata": {},
   "outputs": [
    {
     "data": {
      "text/plain": [
       "['apple', 3]"
      ]
     },
     "execution_count": 26,
     "metadata": {},
     "output_type": "execute_result"
    }
   ],
   "source": [
    "def common_elements2(arg1, arg2):\n",
    "    \"\"\"Den här funktionen tar emot två listor\n",
    "       gör om dem till set, för att kunna använda\n",
    "       intersection.\n",
    "       I returnen gör vi om setet till en lista igen.\"\"\"\n",
    "    if not isinstance(arg1, list) or not isinstance(arg2, list):\n",
    "        raise ValueError(\"Function only accepts lists\")\n",
    "\n",
    "    arg1_set = set(arg1)\n",
    "    arg2_set = set(arg2)\n",
    "\n",
    "    combined_list_set = arg1_set.intersection(arg2_set)\n",
    "\n",
    "    return list(combined_list_set)\n",
    "\n",
    "common_elements2([4, 'apple', 10, 'hi', 3], [23, 'apple', 5, 9, 3])"
   ]
  },
  {
   "cell_type": "markdown",
   "id": "994eb40e",
   "metadata": {},
   "source": [
    "8. Många barn tror att de blev till genom att en stork kom och lämnade dem till deras \n",
    "föräldrar. För att undersöka det kan vi kolla på data och det finns en graf enligt figuren \n",
    "nedan. Det verkar alltså finnas ett samband mellan antalet storkar och barnafödsel!? \n",
    "Stämmer påståendet? Använd begreppet ”kausalitet” i ditt svar.  "
   ]
  },
  {
   "cell_type": "code",
   "execution_count": 2,
   "id": "5d485886",
   "metadata": {},
   "outputs": [
    {
     "data": {
      "image/png": "[encoded data removed]",
      "text/plain": [
       "<Figure size 640x480 with 1 Axes>"
      ]
     },
     "metadata": {},
     "output_type": "display_data"
    }
   ],
   "source": [
    "img = mpimg.imread('storks_birth.jpeg')\n",
    "plt.imshow(img)\n",
    "plt.axis('off')\n",
    "plt.show()"
   ]
  },
  {
   "cell_type": "markdown",
   "id": "f5e87c43",
   "metadata": {},
   "source": [
    "<span style=color:lightgreen>Svar: Om vi tittar på regressionslinjen, som lutar uppåt, så verkar det finnas ett samband mellan antal storkar och barnafödsel.\n",
    "Att linjen lutar uppåt tyder på en viss korrelation.\n",
    "Men om vi tittar på prickarna i spridningsdiagrammet, så är de väldigt utspridda, vilket visar på svagt eller inte särskilt tydligt samband.</span>\n",
    "\n",
    "<span style=color:lightgreen>Om vi bedömmer kausaliteten i diagrammet så kan vi se att flera av prickarna ligger på samma punkt, vilket säger att det inte finns något samband mellan barnafödsel och antal storkpar.</span>"
   ]
  },
  {
   "cell_type": "markdown",
   "id": "229d6932",
   "metadata": {},
   "source": [
    "9. Kim påstår att ”medelvärdet” är ett bättre mått än ”medianvärdet”. Håller du med Kalle?  "
   ]
  },
  {
   "cell_type": "code",
   "execution_count": 22,
   "id": "08f66330",
   "metadata": {},
   "outputs": [
    {
     "name": "stdout",
     "output_type": "stream",
     "text": [
      "Medelvärde: 32.42857142857143\n",
      "Medianvärde: 18.0\n",
      "\n",
      "Medelvärdet är summan av elementen delat på antal element\n",
      "Medianen är värdet som ligger exakt i mitten av listan\n",
      "Om man har stora avvikelser i datan, så ger \n",
      "medianen en tydligare bild av den centrala datan\n",
      "\n",
      "Medianen påverkas inte av extremvärdena\n"
     ]
    }
   ],
   "source": [
    "import numpy as np\n",
    "\n",
    "list_of_numbers = [1, 4, 9, 18, 23, 76, 96]\n",
    "\n",
    "mean_value = np.mean(list_of_numbers)\n",
    "median_value = np.median(list_of_numbers)\n",
    "print(f\"Medelvärde:\", mean_value)\n",
    "print(f\"Medianvärde:\", median_value)\n",
    "print()\n",
    "print(\"Medelvärdet är summan av elementen delat på antal element\")\n",
    "print(\"Medianen är värdet som ligger exakt i mitten av listan\")\n",
    "print(\"\"\"Om man har stora avvikelser i datan, så ger \n",
    "medianen en tydligare bild av den centrala datan\"\"\")\n",
    "print()\n",
    "print(\"Medianen påverkas inte av extremvärdena\")"
   ]
  },
  {
   "cell_type": "markdown",
   "id": "237e68b7",
   "metadata": {},
   "source": [
    "10. Vad används cirkeldiagram för? Ge ett exempel på vad ett företag som Spotify (eller \n",
    "något annat företag som du själv väljer) hade kunnat använda cirkeldiagram för.  "
   ]
  },
  {
   "cell_type": "markdown",
   "id": "80610a4e",
   "metadata": {},
   "source": [
    "<span style=color:lightgreen>Svar: Det används när man ska visualisera procent.\n",
    "Spotify hade kunnat visa top 5 mest spelade låtar\n",
    "och hur många procent den mest spelade låten har\n",
    "gentemot de andra, t.ex.</span>"
   ]
  },
  {
   "cell_type": "markdown",
   "id": "c6647199",
   "metadata": {},
   "source": [
    "11. Vad används linjediagram för? Ge ett exempel på vad ett företag som Spotify (eller något \n",
    "annat företag som du själv väljer) hade kunnat använda linjediagram för. "
   ]
  },
  {
   "cell_type": "markdown",
   "id": "d67530b7",
   "metadata": {},
   "source": [
    "<span style=color:lightgreen>svar: För att visa hur något förändras med tiden. Spotify har en graf t.ex. som visar antal lyssningar/timme över åren som gått.</span>"
   ]
  },
  {
   "cell_type": "markdown",
   "id": "3cf6bfbe",
   "metadata": {},
   "source": [
    "12. Vad används lådagram för?  "
   ]
  },
  {
   "cell_type": "markdown",
   "id": "20c38d98",
   "metadata": {},
   "source": [
    "<span style=\"color: lightgreen;\">svar: Ett verktyg för att illustrera spridningen i en datamängd. Den visar fem värde: </span>\n",
    "<ul style=\"color:deepskyblue\">\n",
    "<li>Största</li>\n",
    "<li>Minsta</li>\n",
    "<li>Medianen</li>\n",
    "<li>Övre och</li>\n",
    "<li>Undre kvartil</li>\n",
    "</span>\n",
    "\n",
    "<span style=\"color: lightgreen\">Kan användas för att jämföra resultat mellan olika grupper, som resultat på ett prov.</span>"
   ]
  },
  {
   "cell_type": "markdown",
   "id": "0d8457bf",
   "metadata": {},
   "source": [
    "1. Vad har varit roligast i kunskapskontrollen? "
   ]
  },
  {
   "cell_type": "markdown",
   "id": "3f89cf41",
   "metadata": {},
   "source": [
    "<span style=\"color: lightgreen;\">Att hitta lösningar på givna problem. Att skapa en klass eller funktion efter beskrivning gillar jag mest.\n",
    "Det har också varit spännande att bekanta sig med Pandas, Numpy och Matplotlib, där Pandas och Numpy var lite lättare att greppa än Matplotlib.</span>"
   ]
  },
  {
   "cell_type": "markdown",
   "id": "a774d194",
   "metadata": {},
   "source": [
    "2. Vilket betyg anser du att du ska ha och varför?  "
   ]
  },
  {
   "cell_type": "markdown",
   "id": "8c36c2d4",
   "metadata": {},
   "source": [
    "<span style=\"color: lightgreen;\"> G. Jag vill säga VG men är inte nöjd med hur jag byggde upp det i Jupyter. I och med att jag gick på Streamlit lite för tidigt kanske, så har en del av arbetet hamnat direkt i Streamlit och inte i Jupyter.\n",
    "<br>\n",
    "<br>\n",
    "Däremot har jag jobbat på varje dag och försökt att finslipa på min app, jobba i Jupyter och närvarit vid alla lektioner.\n",
    "<br>\n",
    "<br>\n",
    "VG på Streamlit appen men G för min notebook - jag ska försöka jobba med strukturen och kommentarer till nästa gång.</span>"
   ]
  },
  {
   "cell_type": "markdown",
   "id": "6535574b",
   "metadata": {},
   "source": [
    "3. Vad har varit mest utmanande i arbetet och hur har du hanterat det?  "
   ]
  },
  {
   "cell_type": "markdown",
   "id": "b08e14d1",
   "metadata": {},
   "source": [
    "<span style=\"color: lightgreen;\">Att jobba med datasetet, diamonds. Försöka förstå vad det är man tittar på. Vad som är relevant och hur man visualiserar det med matplotlib eller seaborn.\n",
    "<br>\n",
    "<br>\n",
    "Utöver det vanliga, att försöka förstå något som man inte kan, så har det kommit en hel del syntax just för de här biblioteken, som man inte har hunnit greppa riktigt.\n",
    "<br>\n",
    "<br>\n",
    "Hur hanterar man det? Inte ge upp, fortsätta jobba. Det blir lättare till slut.</span>"
   ]
  }
 ],
 "metadata": {
  "kernelspec": {
   "display_name": ".venv",
   "language": "python",
   "name": "python3"
  },
  "language_info": {
   "codemirror_mode": {
    "name": "ipython",
    "version": 3
   },
   "file_extension": ".py",
   "mimetype": "text/x-python",
   "name": "python",
   "nbconvert_exporter": "python",
   "pygments_lexer": "ipython3",
   "version": "3.12.6"
  }
 },
 "nbformat": 4,
 "nbformat_minor": 5
}
